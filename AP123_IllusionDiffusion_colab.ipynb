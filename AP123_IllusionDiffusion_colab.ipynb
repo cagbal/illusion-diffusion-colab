{
  "cells": [
    {
      "cell_type": "code",
      "execution_count": null,
      "metadata": {
        "colab": {
          "base_uri": "https://localhost:8080/"
        },
        "id": "7FiCeSN640OH",
        "outputId": "fc8bd33a-8faf-458c-c5a0-247a72df3500"
      },
      "outputs": [],
      "source": [
        "!git clone https://huggingface.co/spaces/AP123/IllusionDiffusion\n",
        "\n",
        "%cd /content/IllusionDiffusion\n",
        "\n",
        "!sed -i 's/launch()/launch(share=True)/g' /content/IllusionDiffusion/app.py\n",
        "\n",
        "!pip install -r requirements.txt\n",
        "\n",
        "!gradio app.py"
      ]
    }
  ],
  "metadata": {
    "accelerator": "GPU",
    "colab": {
      "gpuType": "T4",
      "provenance": []
    },
    "kernelspec": {
      "display_name": "Python 3",
      "name": "python3"
    },
    "language_info": {
      "name": "python"
    }
  },
  "nbformat": 4,
  "nbformat_minor": 0
}
